{
 "cells": [
  {
   "cell_type": "code",
   "execution_count": 1,
   "metadata": {},
   "outputs": [],
   "source": [
    "import pandas as pd\n",
    "import os\n",
    "import glob"
   ]
  },
  {
   "cell_type": "code",
   "execution_count": 2,
   "metadata": {},
   "outputs": [],
   "source": [
    "folder_path = '../data/raw/'\n",
    "\n",
    "# Get a list of all the CSV files in the folder\n",
    "csv_files = glob.glob(os.path.join(folder_path, '*.csv'))"
   ]
  },
  {
   "attachments": {},
   "cell_type": "markdown",
   "metadata": {},
   "source": [
    "## First Preprocessing\n",
    "\n",
    "time_new and day_new for better readability\n",
    "<br> no_movement column shows episodes without movement for at least 2min"
   ]
  },
  {
   "cell_type": "code",
   "execution_count": 3,
   "metadata": {},
   "outputs": [],
   "source": [
    "for file in csv_files:\n",
    "    df = pd.read_csv(file)\n",
    "    filename = os.path.splitext(os.path.basename(file))[0]\n",
    "    df.columns = df.columns.str.lower()\n",
    "    df[\"no_movement\"] =\"\"\n",
    "    day_old = 0\n",
    "    week_number = 0\n",
    "\n",
    "    df[\"hour\"] = df[\"time\"].astype(int)\n",
    "    df[\"minute\"] = (60 * (df[\"time\"]-df[\"hour\"])).astype(int)\n",
    "    df[\"seconds\"] = (60*((60 * (df[\"time\"]-df[\"hour\"])) - df[\"minute\"])).astype(int)\n",
    "\n",
    "    # Convert the columns to a common data type\n",
    "    df['hour'] = df['hour'].astype('int')\n",
    "    df['minute'] = df['minute'].astype('int')\n",
    "    df['seconds'] = df['seconds'].astype('int')\n",
    "\n",
    "    # Combine the columns into a single string\n",
    "    df['time_new'] = df['hour'].astype('str') + ':' + df['minute'].astype('str') + ':' + df['seconds'].astype('str')\n",
    "\n",
    "    df[\"day_new\"] = \"\"\n",
    "\n",
    "    for i in range(len(df)):\n",
    "        \n",
    "        df.loc[i, \"day_new\"] = df[\"day\"][i]%5 \n",
    "        \n",
    "        #Add weeks\n",
    "        day_new = df[\"day\"][i]%5\n",
    "        # i+1 < i  -> week number++\n",
    "        if(day_new<day_old):\n",
    "            week_number = week_number + 1\n",
    "        day_old = df[\"day\"][i]%5\n",
    "        df.loc[df.index == i, 'week_num'] = week_number\n",
    "        \n",
    "        \n",
    "        # static boolean\n",
    "        if(i < len(df)-1): \n",
    "            duration = (df[\"time\"][i+1] - df[\"time\"][i]) * 60\n",
    "            if (duration >= 2):\n",
    "                df.loc[i, \"no_movement\"] = True\n",
    "        \n",
    "    df = df[[\"day\", \"time\", \"time_new\", \"day_new\", \"week_num\", \"x\", \"y\", \"z\", \"no_movement\"]]\n",
    "    df.to_csv(\"../data/preprocessed/\" + filename + \"_prep.csv\", index=False)"
   ]
  }
 ],
 "metadata": {
  "kernelspec": {
   "display_name": "myenv",
   "language": "python",
   "name": "python3"
  },
  "language_info": {
   "codemirror_mode": {
    "name": "ipython",
    "version": 3
   },
   "file_extension": ".py",
   "mimetype": "text/x-python",
   "name": "python",
   "nbconvert_exporter": "python",
   "pygments_lexer": "ipython3",
   "version": "3.10.9"
  },
  "orig_nbformat": 4
 },
 "nbformat": 4,
 "nbformat_minor": 2
}
